{
  "nbformat": 4,
  "nbformat_minor": 0,
  "metadata": {
    "colab": {
      "name": "install_taser.ipynb",
      "provenance": [],
      "authorship_tag": "ABX9TyOrK4PqLsGVYbRXsxLL9Ly7"
    },
    "kernelspec": {
      "name": "python3",
      "display_name": "Python 3"
    },
    "accelerator": "GPU"
  },
  "cells": [
    {
      "cell_type": "code",
      "metadata": {
        "id": "uk_96aL1S-7L",
        "colab_type": "code",
        "colab": {}
      },
      "source": [
        "import os\n",
        "from IPython.display import clear_output\n",
        "from getpass import getpass"
      ],
      "execution_count": 0,
      "outputs": []
    },
    {
      "cell_type": "code",
      "metadata": {
        "id": "lxYKlaaETDLv",
        "colab_type": "code",
        "colab": {}
      },
      "source": [
        "user = getpass('GitHub user')\n",
        "password = getpass('GitHub password')\n",
        "os.environ['GITHUB_AUTH'] = user + ':' + password\n",
        "!git clone https://$GITHUB_AUTH@github.com/evanr70/TASER.git"
      ],
      "execution_count": 0,
      "outputs": []
    },
    {
      "cell_type": "code",
      "metadata": {
        "id": "ViL_8dOSTERG",
        "colab_type": "code",
        "colab": {}
      },
      "source": [
        "!pip install TASER/\n",
        "clear_output()"
      ],
      "execution_count": 0,
      "outputs": []
    }
  ]
}