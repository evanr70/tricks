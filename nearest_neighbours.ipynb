{
 "cells": [
  {
   "cell_type": "code",
   "execution_count": 1,
   "metadata": {
    "collapsed": true
   },
   "outputs": [],
   "source": [
    "import numpy as np\n",
    "\n",
    "from sklearn.neighbors import NearestNeighbors"
   ]
  },
  {
   "cell_type": "markdown",
   "metadata": {},
   "source": [
    "# Initialise a random array of 1000 3D points"
   ]
  },
  {
   "cell_type": "code",
   "execution_count": 2,
   "metadata": {},
   "outputs": [
    {
     "data": {
      "text/plain": [
       "(1000, 3)"
      ]
     },
     "execution_count": 2,
     "metadata": {},
     "output_type": "execute_result"
    }
   ],
   "source": [
    "X = np.random.random((1000, 3))\n",
    "X.shape"
   ]
  },
  {
   "cell_type": "markdown",
   "metadata": {},
   "source": [
    "# Use broadcasting to find pairwise differences"
   ]
  },
  {
   "cell_type": "code",
   "execution_count": 3,
   "metadata": {},
   "outputs": [
    {
     "data": {
      "text/plain": [
       "(1000, 1000, 3)"
      ]
     },
     "execution_count": 3,
     "metadata": {},
     "output_type": "execute_result"
    }
   ],
   "source": [
    "diff = X.reshape(1000, 1, 3) - X\n",
    "diff.shape"
   ]
  },
  {
   "cell_type": "markdown",
   "metadata": {},
   "source": [
    "# Aggregate to find pairwise differences"
   ]
  },
  {
   "cell_type": "code",
   "execution_count": 4,
   "metadata": {},
   "outputs": [
    {
     "data": {
      "text/plain": [
       "(1000, 1000)"
      ]
     },
     "execution_count": 4,
     "metadata": {},
     "output_type": "execute_result"
    }
   ],
   "source": [
    "D = (diff ** 2).sum(axis=2)\n",
    "D.shape"
   ]
  },
  {
   "cell_type": "markdown",
   "metadata": {},
   "source": [
    "# Set diagonal to infinity to skip self-neighbours"
   ]
  },
  {
   "cell_type": "code",
   "execution_count": 5,
   "metadata": {
    "collapsed": true
   },
   "outputs": [],
   "source": [
    "i = np.arange(1000)\n",
    "D[i, i] = np.inf"
   ]
  },
  {
   "cell_type": "markdown",
   "metadata": {},
   "source": [
    "# Print the indices of the nearest neighbor"
   ]
  },
  {
   "cell_type": "code",
   "execution_count": 6,
   "metadata": {},
   "outputs": [
    {
     "name": "stdout",
     "output_type": "stream",
     "text": [
      "[338 792 376 995 430 506 334  64 325 445]\n"
     ]
    }
   ],
   "source": [
    "i = np.argmin(D, axis=1)\n",
    "print(i[:10])"
   ]
  },
  {
   "cell_type": "markdown",
   "metadata": {},
   "source": [
    "# Double check with scikit-learn"
   ]
  },
  {
   "cell_type": "code",
   "execution_count": 7,
   "metadata": {},
   "outputs": [
    {
     "name": "stdout",
     "output_type": "stream",
     "text": [
      "[338 792 376 995 430 506 334  64 325 445]\n"
     ]
    }
   ],
   "source": [
    "d, i = NearestNeighbors().fit(X).kneighbors(X, 2)\n",
    "print(i[:10, 1])"
   ]
  },
  {
   "cell_type": "markdown",
   "metadata": {},
   "source": [
    "# With a smaller matrix to show what's happening"
   ]
  },
  {
   "cell_type": "code",
   "execution_count": 8,
   "metadata": {},
   "outputs": [
    {
     "name": "stdout",
     "output_type": "stream",
     "text": [
      "[[0.07260753 0.68026347 0.62210483]\n",
      " [0.61062272 0.15505244 0.22953415]\n",
      " [0.21876177 0.46364837 0.79854858]\n",
      " [0.78720567 0.53666684 0.9305735 ]\n",
      " [0.0879056  0.32535417 0.24104592]]\n"
     ]
    }
   ],
   "source": [
    "X = np.random.random((5, 3))\n",
    "print(X)"
   ]
  },
  {
   "cell_type": "code",
   "execution_count": 9,
   "metadata": {},
   "outputs": [
    {
     "name": "stdout",
     "output_type": "stream",
     "text": [
      "[[[ 0.          0.          0.        ]\n",
      "  [-0.53801518  0.52521103  0.39257068]\n",
      "  [-0.14615424  0.2166151  -0.17644375]\n",
      "  [-0.71459814  0.14359663 -0.30846867]\n",
      "  [-0.01529807  0.3549093   0.38105891]]\n",
      "\n",
      " [[ 0.53801518 -0.52521103 -0.39257068]\n",
      "  [ 0.          0.          0.        ]\n",
      "  [ 0.39186094 -0.30859593 -0.56901443]\n",
      "  [-0.17658296 -0.3816144  -0.70103935]\n",
      "  [ 0.52271711 -0.17030173 -0.01151177]]\n",
      "\n",
      " [[ 0.14615424 -0.2166151   0.17644375]\n",
      "  [-0.39186094  0.30859593  0.56901443]\n",
      "  [ 0.          0.          0.        ]\n",
      "  [-0.5684439  -0.07301847 -0.13202493]\n",
      "  [ 0.13085617  0.1382942   0.55750266]]\n",
      "\n",
      " [[ 0.71459814 -0.14359663  0.30846867]\n",
      "  [ 0.17658296  0.3816144   0.70103935]\n",
      "  [ 0.5684439   0.07301847  0.13202493]\n",
      "  [ 0.          0.          0.        ]\n",
      "  [ 0.69930007  0.21131267  0.68952759]]\n",
      "\n",
      " [[ 0.01529807 -0.3549093  -0.38105891]\n",
      "  [-0.52271711  0.17030173  0.01151177]\n",
      "  [-0.13085617 -0.1382942  -0.55750266]\n",
      "  [-0.69930007 -0.21131267 -0.68952759]\n",
      "  [ 0.          0.          0.        ]]]\n"
     ]
    }
   ],
   "source": [
    "diff = X.reshape(5, 1, 3) - X\n",
    "print(diff)"
   ]
  },
  {
   "cell_type": "code",
   "execution_count": 10,
   "metadata": {},
   "outputs": [
    {
     "name": "stdout",
     "output_type": "stream",
     "text": [
      "[[0.         0.7194187  0.09941556 0.62642341 0.27140054]\n",
      " [0.7194187  0.         0.57256387 0.66826727 0.30236838]\n",
      " [0.09941556 0.57256387 0.         0.34589075 0.34705784]\n",
      " [0.62642341 0.66826727 0.34589075 0.         1.00912193]\n",
      " [0.27140054 0.30236838 0.34705784 1.00912193 0.        ]]\n"
     ]
    }
   ],
   "source": [
    "D = (diff ** 2).sum(axis=2)\n",
    "print(D)"
   ]
  },
  {
   "cell_type": "code",
   "execution_count": 11,
   "metadata": {},
   "outputs": [
    {
     "name": "stdout",
     "output_type": "stream",
     "text": [
      "[[       inf 0.7194187  0.09941556 0.62642341 0.27140054]\n",
      " [0.7194187         inf 0.57256387 0.66826727 0.30236838]\n",
      " [0.09941556 0.57256387        inf 0.34589075 0.34705784]\n",
      " [0.62642341 0.66826727 0.34589075        inf 1.00912193]\n",
      " [0.27140054 0.30236838 0.34705784 1.00912193        inf]]\n"
     ]
    }
   ],
   "source": [
    "i = np.arange(5)\n",
    "\n",
    "D[i, i] = np.inf\n",
    "print(D)"
   ]
  },
  {
   "cell_type": "code",
   "execution_count": 12,
   "metadata": {},
   "outputs": [
    {
     "name": "stdout",
     "output_type": "stream",
     "text": [
      "[2 4 0 2 0]\n"
     ]
    }
   ],
   "source": [
    "i = np.argmin(D, axis=1)\n",
    "print(i)"
   ]
  }
 ],
 "metadata": {
  "kernelspec": {
   "display_name": "Python 3",
   "language": "python",
   "name": "python3"
  },
  "language_info": {
   "codemirror_mode": {
    "name": "ipython",
    "version": 3
   },
   "file_extension": ".py",
   "mimetype": "text/x-python",
   "name": "python",
   "nbconvert_exporter": "python",
   "pygments_lexer": "ipython3",
   "version": "3.6.3"
  }
 },
 "nbformat": 4,
 "nbformat_minor": 2
}
